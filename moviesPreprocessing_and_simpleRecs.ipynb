{
  "nbformat": 4,
  "nbformat_minor": 0,
  "metadata": {
    "colab": {
      "name": "moviesPreprocessing_and_simpleRecs.ipynb",
      "provenance": [],
      "collapsed_sections": [],
      "mount_file_id": "1wmNORCtKFK26vSLCmZagWNyRG8vehjbk",
      "authorship_tag": "ABX9TyOqaoVnJj0NJxSnwkRAnyu6",
      "include_colab_link": true
    },
    "kernelspec": {
      "name": "python3",
      "display_name": "Python 3"
    }
  },
  "cells": [
    {
      "cell_type": "markdown",
      "metadata": {
        "id": "view-in-github",
        "colab_type": "text"
      },
      "source": [
        "<a href=\"https://colab.research.google.com/github/sharkawy98/data_analysis/blob/main/moviesPreprocessing_and_simpleRecs.ipynb\" target=\"_parent\"><img src=\"https://colab.research.google.com/assets/colab-badge.svg\" alt=\"Open In Colab\"/></a>"
      ]
    },
    {
      "cell_type": "code",
      "metadata": {
        "id": "nxLFaDli1__W"
      },
      "source": [
        "import pandas as pd\n",
        "import numpy as np\n",
        "from ast import literal_eval\n",
        "from nltk.stem.snowball import SnowballStemmer"
      ],
      "execution_count": null,
      "outputs": []
    },
    {
      "cell_type": "code",
      "metadata": {
        "id": "TQSHM0n_1-jm"
      },
      "source": [
        "movies = pd.read_csv('/content/drive/MyDrive/datasets/movies/tmdb_5000_movies.csv')\n",
        "credits = pd.read_csv('/content/drive/MyDrive/datasets/movies/tmdb_5000_credits.csv')"
      ],
      "execution_count": null,
      "outputs": []
    },
    {
      "cell_type": "code",
      "metadata": {
        "colab": {
          "base_uri": "https://localhost:8080/",
          "height": 181
        },
        "id": "TqpQZJUwrTSM",
        "outputId": "a8dbb6c0-1f4d-43b1-ae4b-725cdc0ccd13"
      },
      "source": [
        "movies.head(1)"
      ],
      "execution_count": null,
      "outputs": [
        {
          "output_type": "execute_result",
          "data": {
            "text/html": [
              "<div>\n",
              "<style scoped>\n",
              "    .dataframe tbody tr th:only-of-type {\n",
              "        vertical-align: middle;\n",
              "    }\n",
              "\n",
              "    .dataframe tbody tr th {\n",
              "        vertical-align: top;\n",
              "    }\n",
              "\n",
              "    .dataframe thead th {\n",
              "        text-align: right;\n",
              "    }\n",
              "</style>\n",
              "<table border=\"1\" class=\"dataframe\">\n",
              "  <thead>\n",
              "    <tr style=\"text-align: right;\">\n",
              "      <th></th>\n",
              "      <th>budget</th>\n",
              "      <th>genres</th>\n",
              "      <th>homepage</th>\n",
              "      <th>id</th>\n",
              "      <th>keywords</th>\n",
              "      <th>original_language</th>\n",
              "      <th>original_title</th>\n",
              "      <th>overview</th>\n",
              "      <th>popularity</th>\n",
              "      <th>production_companies</th>\n",
              "      <th>production_countries</th>\n",
              "      <th>release_date</th>\n",
              "      <th>revenue</th>\n",
              "      <th>runtime</th>\n",
              "      <th>spoken_languages</th>\n",
              "      <th>status</th>\n",
              "      <th>tagline</th>\n",
              "      <th>title</th>\n",
              "      <th>vote_average</th>\n",
              "      <th>vote_count</th>\n",
              "    </tr>\n",
              "  </thead>\n",
              "  <tbody>\n",
              "    <tr>\n",
              "      <th>0</th>\n",
              "      <td>237000000</td>\n",
              "      <td>[{\"id\": 28, \"name\": \"Action\"}, {\"id\": 12, \"nam...</td>\n",
              "      <td>http://www.avatarmovie.com/</td>\n",
              "      <td>19995</td>\n",
              "      <td>[{\"id\": 1463, \"name\": \"culture clash\"}, {\"id\":...</td>\n",
              "      <td>en</td>\n",
              "      <td>Avatar</td>\n",
              "      <td>In the 22nd century, a paraplegic Marine is di...</td>\n",
              "      <td>150.437577</td>\n",
              "      <td>[{\"name\": \"Ingenious Film Partners\", \"id\": 289...</td>\n",
              "      <td>[{\"iso_3166_1\": \"US\", \"name\": \"United States o...</td>\n",
              "      <td>2009-12-10</td>\n",
              "      <td>2787965087</td>\n",
              "      <td>162.0</td>\n",
              "      <td>[{\"iso_639_1\": \"en\", \"name\": \"English\"}, {\"iso...</td>\n",
              "      <td>Released</td>\n",
              "      <td>Enter the World of Pandora.</td>\n",
              "      <td>Avatar</td>\n",
              "      <td>7.2</td>\n",
              "      <td>11800</td>\n",
              "    </tr>\n",
              "  </tbody>\n",
              "</table>\n",
              "</div>"
            ],
            "text/plain": [
              "      budget  ... vote_count\n",
              "0  237000000  ...      11800\n",
              "\n",
              "[1 rows x 20 columns]"
            ]
          },
          "metadata": {
            "tags": []
          },
          "execution_count": 16
        }
      ]
    },
    {
      "cell_type": "code",
      "metadata": {
        "colab": {
          "base_uri": "https://localhost:8080/",
          "height": 77
        },
        "id": "G8xuw7lerY4H",
        "outputId": "0038561a-50ce-4af7-dd47-62172fb602a5"
      },
      "source": [
        "credits.head(1)"
      ],
      "execution_count": null,
      "outputs": [
        {
          "output_type": "execute_result",
          "data": {
            "text/html": [
              "<div>\n",
              "<style scoped>\n",
              "    .dataframe tbody tr th:only-of-type {\n",
              "        vertical-align: middle;\n",
              "    }\n",
              "\n",
              "    .dataframe tbody tr th {\n",
              "        vertical-align: top;\n",
              "    }\n",
              "\n",
              "    .dataframe thead th {\n",
              "        text-align: right;\n",
              "    }\n",
              "</style>\n",
              "<table border=\"1\" class=\"dataframe\">\n",
              "  <thead>\n",
              "    <tr style=\"text-align: right;\">\n",
              "      <th></th>\n",
              "      <th>movie_id</th>\n",
              "      <th>title</th>\n",
              "      <th>cast</th>\n",
              "      <th>crew</th>\n",
              "    </tr>\n",
              "  </thead>\n",
              "  <tbody>\n",
              "    <tr>\n",
              "      <th>0</th>\n",
              "      <td>19995</td>\n",
              "      <td>Avatar</td>\n",
              "      <td>[{\"cast_id\": 242, \"character\": \"Jake Sully\", \"...</td>\n",
              "      <td>[{\"credit_id\": \"52fe48009251416c750aca23\", \"de...</td>\n",
              "    </tr>\n",
              "  </tbody>\n",
              "</table>\n",
              "</div>"
            ],
            "text/plain": [
              "   movie_id  ...                                               crew\n",
              "0     19995  ...  [{\"credit_id\": \"52fe48009251416c750aca23\", \"de...\n",
              "\n",
              "[1 rows x 4 columns]"
            ]
          },
          "metadata": {
            "tags": []
          },
          "execution_count": 17
        }
      ]
    },
    {
      "cell_type": "code",
      "metadata": {
        "colab": {
          "base_uri": "https://localhost:8080/",
          "height": 634
        },
        "id": "TMTaZis12NyQ",
        "outputId": "cb368218-c824-4280-94b0-d0d167210a34"
      },
      "source": [
        "# merge the two files\n",
        "data = movies.merge(credits, left_on='id', right_on='movie_id')\n",
        "data.head()"
      ],
      "execution_count": null,
      "outputs": [
        {
          "output_type": "execute_result",
          "data": {
            "text/html": [
              "<div>\n",
              "<style scoped>\n",
              "    .dataframe tbody tr th:only-of-type {\n",
              "        vertical-align: middle;\n",
              "    }\n",
              "\n",
              "    .dataframe tbody tr th {\n",
              "        vertical-align: top;\n",
              "    }\n",
              "\n",
              "    .dataframe thead th {\n",
              "        text-align: right;\n",
              "    }\n",
              "</style>\n",
              "<table border=\"1\" class=\"dataframe\">\n",
              "  <thead>\n",
              "    <tr style=\"text-align: right;\">\n",
              "      <th></th>\n",
              "      <th>budget</th>\n",
              "      <th>genres</th>\n",
              "      <th>homepage</th>\n",
              "      <th>id</th>\n",
              "      <th>keywords</th>\n",
              "      <th>original_language</th>\n",
              "      <th>original_title</th>\n",
              "      <th>overview</th>\n",
              "      <th>popularity</th>\n",
              "      <th>production_companies</th>\n",
              "      <th>production_countries</th>\n",
              "      <th>release_date</th>\n",
              "      <th>revenue</th>\n",
              "      <th>runtime</th>\n",
              "      <th>spoken_languages</th>\n",
              "      <th>status</th>\n",
              "      <th>tagline</th>\n",
              "      <th>title_x</th>\n",
              "      <th>vote_average</th>\n",
              "      <th>vote_count</th>\n",
              "      <th>movie_id</th>\n",
              "      <th>title_y</th>\n",
              "      <th>cast</th>\n",
              "      <th>crew</th>\n",
              "    </tr>\n",
              "  </thead>\n",
              "  <tbody>\n",
              "    <tr>\n",
              "      <th>0</th>\n",
              "      <td>237000000</td>\n",
              "      <td>[{\"id\": 28, \"name\": \"Action\"}, {\"id\": 12, \"nam...</td>\n",
              "      <td>http://www.avatarmovie.com/</td>\n",
              "      <td>19995</td>\n",
              "      <td>[{\"id\": 1463, \"name\": \"culture clash\"}, {\"id\":...</td>\n",
              "      <td>en</td>\n",
              "      <td>Avatar</td>\n",
              "      <td>In the 22nd century, a paraplegic Marine is di...</td>\n",
              "      <td>150.437577</td>\n",
              "      <td>[{\"name\": \"Ingenious Film Partners\", \"id\": 289...</td>\n",
              "      <td>[{\"iso_3166_1\": \"US\", \"name\": \"United States o...</td>\n",
              "      <td>2009-12-10</td>\n",
              "      <td>2787965087</td>\n",
              "      <td>162.0</td>\n",
              "      <td>[{\"iso_639_1\": \"en\", \"name\": \"English\"}, {\"iso...</td>\n",
              "      <td>Released</td>\n",
              "      <td>Enter the World of Pandora.</td>\n",
              "      <td>Avatar</td>\n",
              "      <td>7.2</td>\n",
              "      <td>11800</td>\n",
              "      <td>19995</td>\n",
              "      <td>Avatar</td>\n",
              "      <td>[{\"cast_id\": 242, \"character\": \"Jake Sully\", \"...</td>\n",
              "      <td>[{\"credit_id\": \"52fe48009251416c750aca23\", \"de...</td>\n",
              "    </tr>\n",
              "    <tr>\n",
              "      <th>1</th>\n",
              "      <td>300000000</td>\n",
              "      <td>[{\"id\": 12, \"name\": \"Adventure\"}, {\"id\": 14, \"...</td>\n",
              "      <td>http://disney.go.com/disneypictures/pirates/</td>\n",
              "      <td>285</td>\n",
              "      <td>[{\"id\": 270, \"name\": \"ocean\"}, {\"id\": 726, \"na...</td>\n",
              "      <td>en</td>\n",
              "      <td>Pirates of the Caribbean: At World's End</td>\n",
              "      <td>Captain Barbossa, long believed to be dead, ha...</td>\n",
              "      <td>139.082615</td>\n",
              "      <td>[{\"name\": \"Walt Disney Pictures\", \"id\": 2}, {\"...</td>\n",
              "      <td>[{\"iso_3166_1\": \"US\", \"name\": \"United States o...</td>\n",
              "      <td>2007-05-19</td>\n",
              "      <td>961000000</td>\n",
              "      <td>169.0</td>\n",
              "      <td>[{\"iso_639_1\": \"en\", \"name\": \"English\"}]</td>\n",
              "      <td>Released</td>\n",
              "      <td>At the end of the world, the adventure begins.</td>\n",
              "      <td>Pirates of the Caribbean: At World's End</td>\n",
              "      <td>6.9</td>\n",
              "      <td>4500</td>\n",
              "      <td>285</td>\n",
              "      <td>Pirates of the Caribbean: At World's End</td>\n",
              "      <td>[{\"cast_id\": 4, \"character\": \"Captain Jack Spa...</td>\n",
              "      <td>[{\"credit_id\": \"52fe4232c3a36847f800b579\", \"de...</td>\n",
              "    </tr>\n",
              "    <tr>\n",
              "      <th>2</th>\n",
              "      <td>245000000</td>\n",
              "      <td>[{\"id\": 28, \"name\": \"Action\"}, {\"id\": 12, \"nam...</td>\n",
              "      <td>http://www.sonypictures.com/movies/spectre/</td>\n",
              "      <td>206647</td>\n",
              "      <td>[{\"id\": 470, \"name\": \"spy\"}, {\"id\": 818, \"name...</td>\n",
              "      <td>en</td>\n",
              "      <td>Spectre</td>\n",
              "      <td>A cryptic message from Bond’s past sends him o...</td>\n",
              "      <td>107.376788</td>\n",
              "      <td>[{\"name\": \"Columbia Pictures\", \"id\": 5}, {\"nam...</td>\n",
              "      <td>[{\"iso_3166_1\": \"GB\", \"name\": \"United Kingdom\"...</td>\n",
              "      <td>2015-10-26</td>\n",
              "      <td>880674609</td>\n",
              "      <td>148.0</td>\n",
              "      <td>[{\"iso_639_1\": \"fr\", \"name\": \"Fran\\u00e7ais\"},...</td>\n",
              "      <td>Released</td>\n",
              "      <td>A Plan No One Escapes</td>\n",
              "      <td>Spectre</td>\n",
              "      <td>6.3</td>\n",
              "      <td>4466</td>\n",
              "      <td>206647</td>\n",
              "      <td>Spectre</td>\n",
              "      <td>[{\"cast_id\": 1, \"character\": \"James Bond\", \"cr...</td>\n",
              "      <td>[{\"credit_id\": \"54805967c3a36829b5002c41\", \"de...</td>\n",
              "    </tr>\n",
              "    <tr>\n",
              "      <th>3</th>\n",
              "      <td>250000000</td>\n",
              "      <td>[{\"id\": 28, \"name\": \"Action\"}, {\"id\": 80, \"nam...</td>\n",
              "      <td>http://www.thedarkknightrises.com/</td>\n",
              "      <td>49026</td>\n",
              "      <td>[{\"id\": 849, \"name\": \"dc comics\"}, {\"id\": 853,...</td>\n",
              "      <td>en</td>\n",
              "      <td>The Dark Knight Rises</td>\n",
              "      <td>Following the death of District Attorney Harve...</td>\n",
              "      <td>112.312950</td>\n",
              "      <td>[{\"name\": \"Legendary Pictures\", \"id\": 923}, {\"...</td>\n",
              "      <td>[{\"iso_3166_1\": \"US\", \"name\": \"United States o...</td>\n",
              "      <td>2012-07-16</td>\n",
              "      <td>1084939099</td>\n",
              "      <td>165.0</td>\n",
              "      <td>[{\"iso_639_1\": \"en\", \"name\": \"English\"}]</td>\n",
              "      <td>Released</td>\n",
              "      <td>The Legend Ends</td>\n",
              "      <td>The Dark Knight Rises</td>\n",
              "      <td>7.6</td>\n",
              "      <td>9106</td>\n",
              "      <td>49026</td>\n",
              "      <td>The Dark Knight Rises</td>\n",
              "      <td>[{\"cast_id\": 2, \"character\": \"Bruce Wayne / Ba...</td>\n",
              "      <td>[{\"credit_id\": \"52fe4781c3a36847f81398c3\", \"de...</td>\n",
              "    </tr>\n",
              "    <tr>\n",
              "      <th>4</th>\n",
              "      <td>260000000</td>\n",
              "      <td>[{\"id\": 28, \"name\": \"Action\"}, {\"id\": 12, \"nam...</td>\n",
              "      <td>http://movies.disney.com/john-carter</td>\n",
              "      <td>49529</td>\n",
              "      <td>[{\"id\": 818, \"name\": \"based on novel\"}, {\"id\":...</td>\n",
              "      <td>en</td>\n",
              "      <td>John Carter</td>\n",
              "      <td>John Carter is a war-weary, former military ca...</td>\n",
              "      <td>43.926995</td>\n",
              "      <td>[{\"name\": \"Walt Disney Pictures\", \"id\": 2}]</td>\n",
              "      <td>[{\"iso_3166_1\": \"US\", \"name\": \"United States o...</td>\n",
              "      <td>2012-03-07</td>\n",
              "      <td>284139100</td>\n",
              "      <td>132.0</td>\n",
              "      <td>[{\"iso_639_1\": \"en\", \"name\": \"English\"}]</td>\n",
              "      <td>Released</td>\n",
              "      <td>Lost in our world, found in another.</td>\n",
              "      <td>John Carter</td>\n",
              "      <td>6.1</td>\n",
              "      <td>2124</td>\n",
              "      <td>49529</td>\n",
              "      <td>John Carter</td>\n",
              "      <td>[{\"cast_id\": 5, \"character\": \"John Carter\", \"c...</td>\n",
              "      <td>[{\"credit_id\": \"52fe479ac3a36847f813eaa3\", \"de...</td>\n",
              "    </tr>\n",
              "  </tbody>\n",
              "</table>\n",
              "</div>"
            ],
            "text/plain": [
              "      budget  ...                                               crew\n",
              "0  237000000  ...  [{\"credit_id\": \"52fe48009251416c750aca23\", \"de...\n",
              "1  300000000  ...  [{\"credit_id\": \"52fe4232c3a36847f800b579\", \"de...\n",
              "2  245000000  ...  [{\"credit_id\": \"54805967c3a36829b5002c41\", \"de...\n",
              "3  250000000  ...  [{\"credit_id\": \"52fe4781c3a36847f81398c3\", \"de...\n",
              "4  260000000  ...  [{\"credit_id\": \"52fe479ac3a36847f813eaa3\", \"de...\n",
              "\n",
              "[5 rows x 24 columns]"
            ]
          },
          "metadata": {
            "tags": []
          },
          "execution_count": 18
        }
      ]
    },
    {
      "cell_type": "code",
      "metadata": {
        "colab": {
          "base_uri": "https://localhost:8080/"
        },
        "id": "vNBIeLsqpqh1",
        "outputId": "82354179-3a31-4bc4-bef7-c44580990da1"
      },
      "source": [
        "data.isnull().sum()  # check count of null values"
      ],
      "execution_count": null,
      "outputs": [
        {
          "output_type": "execute_result",
          "data": {
            "text/plain": [
              "budget                     0\n",
              "genres                     0\n",
              "homepage                3091\n",
              "id                         0\n",
              "keywords                   0\n",
              "original_language          0\n",
              "original_title             0\n",
              "overview                   3\n",
              "popularity                 0\n",
              "production_companies       0\n",
              "production_countries       0\n",
              "release_date               1\n",
              "revenue                    0\n",
              "runtime                    2\n",
              "spoken_languages           0\n",
              "status                     0\n",
              "tagline                  844\n",
              "title_x                    0\n",
              "vote_average               0\n",
              "vote_count                 0\n",
              "movie_id                   0\n",
              "title_y                    0\n",
              "cast                       0\n",
              "crew                       0\n",
              "dtype: int64"
            ]
          },
          "metadata": {
            "tags": []
          },
          "execution_count": 19
        }
      ]
    },
    {
      "cell_type": "code",
      "metadata": {
        "id": "eAGRZZEmrLQ1"
      },
      "source": [
        "# Change JSON string to Python objects\n",
        "data['genres'] = data['genres'].apply(literal_eval)\n",
        "data['keywords'] = data['keywords'].apply(literal_eval) \n",
        "data['production_companies'] = data['production_companies'].apply(literal_eval) \n",
        "data['cast'] = data['cast'].apply(literal_eval)\n",
        "data['crew'] = data['crew'].apply(literal_eval)"
      ],
      "execution_count": null,
      "outputs": []
    },
    {
      "cell_type": "code",
      "metadata": {
        "id": "49_6CZ9E4mTZ"
      },
      "source": [
        "def get_director(crew):\n",
        "    '''Return director of each movie if exist, else return NaN'''\n",
        "    for m in crew:\n",
        "        if m['job'] == 'Director':\n",
        "            return m['name']\n",
        "    return np.nan"
      ],
      "execution_count": null,
      "outputs": []
    },
    {
      "cell_type": "code",
      "metadata": {
        "id": "EQcRIzsp7ECh"
      },
      "source": [
        "data['director'] = data['crew'].apply(get_director)  # get director name\n",
        "\n",
        "data['cast'] = data['cast'].apply(lambda cast: [m['name'] for m in cast])  # get list of cast names\n",
        "\n",
        "data['keywords'] = data['keywords'].apply(lambda keywords: [k['name'] for k in keywords])  # get list of keywords describing movie"
      ],
      "execution_count": null,
      "outputs": []
    },
    {
      "cell_type": "code",
      "metadata": {
        "id": "JggVt6oD-XfL"
      },
      "source": [
        "# change names to lower case and remove spaces\n",
        "# for top 3 actors\n",
        "data['cast'] = data['cast'].apply(lambda cast: [str.lower(name.replace(\" \", \"\")) for name in cast[:3]])"
      ],
      "execution_count": null,
      "outputs": []
    },
    {
      "cell_type": "code",
      "metadata": {
        "id": "45ppy6--ERdq"
      },
      "source": [
        "# change names to lower case and remove spaces\n",
        "# for each director\n",
        "# and multilpy by 3 to give higher weight\n",
        "data['director'] = data['director'].astype('str').apply(lambda name: [str.lower(name.replace(\" \", \"\"))] * 3)"
      ],
      "execution_count": null,
      "outputs": []
    },
    {
      "cell_type": "code",
      "metadata": {
        "id": "XQeRRCLnHGGU",
        "colab": {
          "base_uri": "https://localhost:8080/"
        },
        "outputId": "21776105-e898-40dc-d43d-db673ca627a5"
      },
      "source": [
        "# get all keywords occurrences in a pandas.Series\n",
        "s = data.apply(lambda x: pd.Series(x['keywords']), axis=1).stack().reset_index(level=1, drop=True)\n",
        "s.name = 'keyword'\n",
        "s"
      ],
      "execution_count": null,
      "outputs": [
        {
          "output_type": "stream",
          "text": [
            "/usr/local/lib/python3.7/dist-packages/ipykernel_launcher.py:2: DeprecationWarning: The default dtype for empty Series will be 'object' instead of 'float64' in a future version. Specify a dtype explicitly to silence this warning.\n",
            "  \n"
          ],
          "name": "stderr"
        },
        {
          "output_type": "execute_result",
          "data": {
            "text/plain": [
              "0       culture clash\n",
              "0              future\n",
              "0           space war\n",
              "0        space colony\n",
              "0             society\n",
              "            ...      \n",
              "4800    postal worker\n",
              "4802        obsession\n",
              "4802        camcorder\n",
              "4802            crush\n",
              "4802       dream girl\n",
              "Name: keyword, Length: 36194, dtype: object"
            ]
          },
          "metadata": {
            "tags": []
          },
          "execution_count": 26
        }
      ]
    },
    {
      "cell_type": "code",
      "metadata": {
        "id": "tyPUHODnH25p",
        "colab": {
          "base_uri": "https://localhost:8080/"
        },
        "outputId": "acbe1b23-f2b4-4f4d-994a-d927d8a16757"
      },
      "source": [
        "# count occurrence of each keyword \n",
        "s = s.value_counts()\n",
        "s"
      ],
      "execution_count": null,
      "outputs": [
        {
          "output_type": "execute_result",
          "data": {
            "text/plain": [
              "woman director          324\n",
              "independent film        318\n",
              "duringcreditsstinger    307\n",
              "based on novel          197\n",
              "murder                  189\n",
              "                       ... \n",
              "obese                     1\n",
              "paraguay                  1\n",
              "orléans                   1\n",
              "hostage negotiator        1\n",
              "grim reaper               1\n",
              "Name: keyword, Length: 9813, dtype: int64"
            ]
          },
          "metadata": {
            "tags": []
          },
          "execution_count": 27
        }
      ]
    },
    {
      "cell_type": "code",
      "metadata": {
        "id": "e0TsXamjIGHR"
      },
      "source": [
        "s = s[s > 1]  # remove keywords with only one occurrence "
      ],
      "execution_count": null,
      "outputs": []
    },
    {
      "cell_type": "code",
      "metadata": {
        "id": "Cdf-KK8Zo_6R"
      },
      "source": [
        "def filter_keywords(keywords):\n",
        "    '''filter each movie keywords from ones occurred once'''\n",
        "    words = []\n",
        "    for k in keywords: \n",
        "        if k in s:\n",
        "            words.append(k)\n",
        "    return words\n",
        "\n",
        "stemmer = SnowballStemmer('english')"
      ],
      "execution_count": null,
      "outputs": []
    },
    {
      "cell_type": "code",
      "metadata": {
        "id": "1ztOaxPArEMR"
      },
      "source": [
        "# filter keywords & change each one to to lower case and remove spaces\n",
        "# Also apply stemming to each keyword\n",
        "data['keywords'] = data['keywords'].apply(filter_keywords)  \n",
        "data['keywords'] = data['keywords'].apply(lambda keywords: [str.lower((stemmer.stem(k)).replace(' ', '')) for k in keywords])"
      ],
      "execution_count": null,
      "outputs": []
    },
    {
      "cell_type": "code",
      "metadata": {
        "id": "90YTKcGX6kkT"
      },
      "source": [
        "# get list of production companies\n",
        "data['production_companies'] = data['production_companies'].apply(lambda companies: [str.lower(c['name'].replace(' ', '')) for c in companies])\n",
        "\n",
        "# get list of movie genres\n",
        "data['genres'] = data['genres'].apply(lambda genres: [str.lower(g['name'].replace(' ', '')) for g in genres])  # get list of movie's genres"
      ],
      "execution_count": null,
      "outputs": []
    },
    {
      "cell_type": "code",
      "metadata": {
        "id": "z3SG5SEAtUxH",
        "colab": {
          "base_uri": "https://localhost:8080/"
        },
        "outputId": "930f17d7-8c95-4399-c4d3-fa6155a3dc32"
      },
      "source": [
        "# combine all interesting columns to make feature used to make recommendations \n",
        "data['features'] = data['keywords'] + data['cast'] + data['genres'] + data['production_companies'] + data['director']\n",
        "data['features'] = data['features'].apply(lambda t: ' '.join(t))\n",
        "data.features"
      ],
      "execution_count": null,
      "outputs": [
        {
          "output_type": "execute_result",
          "data": {
            "text/plain": [
              "0       cultureclash futur spacewar spacecoloni societ...\n",
              "1       ocean drugabus exoticisland eastindiatradingco...\n",
              "2       spi basedonnovel secretag sequel mi6 britishse...\n",
              "3       dccomic crimefight terrorist secretident burgl...\n",
              "4       basedonnovel mar medallion spacetravel princes...\n",
              "                              ...                        \n",
              "4798    unitedstates–mexicobarri leg carlosgallardo ja...\n",
              "4799    edwardburns kerrybishé marshadietlein comedy r...\n",
              "4800    date loveatfirstsight narrat investig team eri...\n",
              "4801    danielhenney elizacoupe billpaxton danielhsia ...\n",
              "4802    obsess camcord crush dreamgirl drewbarrymore b...\n",
              "Name: features, Length: 4803, dtype: object"
            ]
          },
          "metadata": {
            "tags": []
          },
          "execution_count": 44
        }
      ]
    },
    {
      "cell_type": "markdown",
      "metadata": {
        "id": "lHcb1o7PtQab"
      },
      "source": [
        "---\n",
        "---\n",
        "\n",
        "# Recommendations"
      ]
    },
    {
      "cell_type": "code",
      "metadata": {
        "id": "ohwMnrJcuea8"
      },
      "source": [
        "from sklearn.feature_extraction.text import CountVectorizer, TfidfVectorizer\n",
        "from sklearn.metrics.pairwise import cosine_similarity, sigmoid_kernel, linear_kernel\n",
        "import scipy.sparse as sp"
      ],
      "execution_count": null,
      "outputs": []
    },
    {
      "cell_type": "code",
      "metadata": {
        "id": "GdpFdlE4uug-"
      },
      "source": [
        "# tf = TfidfVectorizer(analyzer='word', ngram_range=(1, 2), min_df=0, stop_words='english')\n",
        "# tfidf_matrix = tf.fit_transform(data['overview'])\n",
        "# tfidf_matrix.shape\n",
        "# cosine_sim = linear_kernel(tfidf_matrix, tfidf_matrix)\n",
        "\n",
        "# count = CountVectorizer(analyzer='word',ngram_range=(1, 2),min_df=0, stop_words='english')\n",
        "# count_matrix = count.fit_transform(data['features'])\n",
        "# count_matrix.shape\n",
        "# cosine_sim = cosine_similarity(count_matrix, count_matrix)\n",
        "\n",
        "# combine_sparse = sp.hstack([tfidf_matrix, count_matrix], format='csr')\n",
        "# cosine_sim = cosine_similarity(combine_sparse, combine_sparse)"
      ],
      "execution_count": null,
      "outputs": []
    },
    {
      "cell_type": "code",
      "metadata": {
        "id": "7qE4Kj7nlhTs"
      },
      "source": [
        "def load_data():\n",
        "    data = pd.read_csv('/content/drive/MyDrive/datasets/movies/movies.csv')\n",
        "    data = data[['movie_id', 'title_x', 'features']]\n",
        "    return data\n",
        "\n",
        "def get_similarities(data):\n",
        "    count = CountVectorizer(analyzer='word',ngram_range=(1, 2),min_df=0, stop_words='english')\n",
        "    count_matrix = count.fit_transform(data['features'])\n",
        "    cosine_sim = cosine_similarity(count_matrix, count_matrix)\n",
        "    return cosine_sim\n",
        "\n",
        "def recommended_movies(title, data, similarities):\n",
        "    indices = pd.Series(data.index, index=data['title_x'].str.lower())\n",
        "\n",
        "    movie_idx = indices[title]\n",
        "    sim_scores = list(enumerate(similarities[movie_idx]))\n",
        "    sim_scores = sorted(sim_scores, key=lambda x: x[1], reverse=True)\n",
        "    sim_scores = sim_scores[1:31]\n",
        "    recommendations_indices = [i[0] for i in sim_scores]\n",
        "    \n",
        "    return data.iloc[recommendations_indices][['movie_id', 'title_x']]"
      ],
      "execution_count": null,
      "outputs": []
    },
    {
      "cell_type": "code",
      "metadata": {
        "id": "r_YzQ5eCptju"
      },
      "source": [
        "def get_recommendations(movie_name):\n",
        "        '''Return the top 30 recommended movies'''\n",
        "        movie_name = movie_name.lower()\n",
        "\n",
        "        movies = data\n",
        "        # movies = load_data()\n",
        "        similarities = get_similarities(data)\n",
        "\n",
        "        if movie_name not in (movies['title_x'].str.lower()).values:\n",
        "                return 'Movie not found !'\n",
        "\n",
        "        else:\n",
        "                recommendations = recommended_movies(movie_name, data, similarities)\n",
        "                recommendations.columns = ['tmdb_id', 'title']\n",
        "                return recommendations.to_dict('records')"
      ],
      "execution_count": null,
      "outputs": []
    },
    {
      "cell_type": "code",
      "metadata": {
        "colab": {
          "base_uri": "https://localhost:8080/"
        },
        "id": "VIOxkcnWqwxS",
        "outputId": "e7d7b7d7-522b-4dad-f875-88abe9278bf7"
      },
      "source": [
        "get_recommendations('the godfather')"
      ],
      "execution_count": null,
      "outputs": [
        {
          "output_type": "execute_result",
          "data": {
            "text/plain": [
              "[{'title': 'The Godfather: Part II', 'tmdb_id': 240},\n",
              " {'title': 'The Rainmaker', 'tmdb_id': 11975},\n",
              " {'title': 'The Godfather: Part III', 'tmdb_id': 242},\n",
              " {'title': 'The Cotton Club', 'tmdb_id': 2148},\n",
              " {'title': 'The Conversation', 'tmdb_id': 592},\n",
              " {'title': 'Peggy Sue Got Married', 'tmdb_id': 10013},\n",
              " {'title': 'The Outsiders', 'tmdb_id': 227},\n",
              " {'title': 'Twixt', 'tmdb_id': 78381},\n",
              " {'title': 'Apocalypse Now', 'tmdb_id': 28},\n",
              " {'title': 'New York Stories', 'tmdb_id': 9686},\n",
              " {'title': 'Dracula', 'tmdb_id': 6114},\n",
              " {'title': 'Payback', 'tmdb_id': 2112},\n",
              " {'title': '10th & Wolf', 'tmdb_id': 13197},\n",
              " {'title': 'Collateral', 'tmdb_id': 1538},\n",
              " {'title': 'GoodFellas', 'tmdb_id': 769},\n",
              " {'title': 'Blood Done Sign My Name', 'tmdb_id': 41894},\n",
              " {'title': 'Kiss the Girls', 'tmdb_id': 9437},\n",
              " {'title': 'A Simple Plan', 'tmdb_id': 10223},\n",
              " {'title': 'Patriot Games', 'tmdb_id': 9869},\n",
              " {'title': 'Black Water Transit', 'tmdb_id': 310706},\n",
              " {'title': 'The Shawshank Redemption', 'tmdb_id': 278},\n",
              " {'title': 'Summer of Sam', 'tmdb_id': 10279},\n",
              " {'title': 'Donnie Brasco', 'tmdb_id': 9366},\n",
              " {'title': 'The Son of No One', 'tmdb_id': 74536},\n",
              " {'title': 'This Thing of Ours', 'tmdb_id': 67373},\n",
              " {'title': 'Bless the Child', 'tmdb_id': 10391},\n",
              " {'title': 'Shooter', 'tmdb_id': 7485},\n",
              " {'title': 'The Bad Lieutenant: Port of Call - New Orleans', 'tmdb_id': 11699},\n",
              " {'title': 'The Naked Gun 33⅓: The Final Insult', 'tmdb_id': 36593},\n",
              " {'title': 'Kids', 'tmdb_id': 9344}]"
            ]
          },
          "metadata": {
            "tags": []
          },
          "execution_count": 48
        }
      ]
    }
  ]
}