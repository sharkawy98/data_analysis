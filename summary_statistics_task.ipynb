{
  "nbformat": 4,
  "nbformat_minor": 0,
  "metadata": {
    "colab": {
      "name": "summary_statistics_task.ipynb",
      "provenance": [],
      "collapsed_sections": [],
      "include_colab_link": true
    },
    "kernelspec": {
      "name": "python3",
      "display_name": "Python 3"
    }
  },
  "cells": [
    {
      "cell_type": "markdown",
      "metadata": {
        "id": "view-in-github",
        "colab_type": "text"
      },
      "source": [
        "<a href=\"https://colab.research.google.com/github/sharkawy98/data_analysis/blob/main/summary_statistics_task.ipynb\" target=\"_parent\"><img src=\"https://colab.research.google.com/assets/colab-badge.svg\" alt=\"Open In Colab\"/></a>"
      ]
    },
    {
      "cell_type": "markdown",
      "metadata": {
        "id": "ayr9EWVBQ94r"
      },
      "source": [
        "# Books dataset analysis \n",
        "\n",
        "\n",
        "**Comprehensive list of all books listed in GoodReads website**\n",
        "\n",
        "\n",
        "Columns description:\n",
        "* bookID: Contains the unique ID for each book/series\n",
        "* title: contains the titles of the books\n",
        "* authors: contains the author of the particular book\n",
        "* average_rating: the average rating of the books, as decided by the users\n",
        "* isbn: ISBN(10) number, a unique number to identify the book, the International Standard Book Number.\n",
        "* isbn13: The new format for ISBN, 13 digits\n",
        "* language_code: Tells the language for the books\n",
        "* num_pages: Contains the number of pages for the book\n",
        "* ratings_count: Contains the number of ratings given for the book\n",
        "* text_reviews_count: Has the count of reviews left by users\n",
        "* publication_date: the date of book publication\n",
        "* publisher: the name of the publisher\n",
        "---"
      ]
    },
    {
      "cell_type": "markdown",
      "metadata": {
        "id": "y-jVFbL-i-z2"
      },
      "source": [
        "## **import libraries**"
      ]
    },
    {
      "cell_type": "code",
      "metadata": {
        "id": "umdBfuyYR3gE"
      },
      "source": [
        "import pandas as pd\n",
        "import matplotlib.pyplot as plt"
      ],
      "execution_count": null,
      "outputs": []
    },
    {
      "cell_type": "code",
      "metadata": {
        "id": "gv5TeZgiDXCZ"
      },
      "source": [
        "plt.style.use('seaborn')  # switch to seaborn style"
      ],
      "execution_count": null,
      "outputs": []
    },
    {
      "cell_type": "markdown",
      "metadata": {
        "id": "yQb23S22jL_w"
      },
      "source": [
        "```\n",
        "#import your dataset \n",
        "```"
      ]
    },
    {
      "cell_type": "code",
      "metadata": {
        "id": "Nrzk3aAGjLvb",
        "colab": {
          "base_uri": "https://localhost:8080/",
          "height": 751
        },
        "outputId": "0e850bc1-7ded-44a7-8d31-522a8c73a673"
      },
      "source": [
        "books = pd.read_csv('/content/drive/MyDrive/datasets/books.csv', error_bad_lines=False)\n",
        "books.head()"
      ],
      "execution_count": null,
      "outputs": [
        {
          "output_type": "stream",
          "text": [
            "b'Skipping line 3350: expected 12 fields, saw 13\\nSkipping line 4704: expected 12 fields, saw 13\\nSkipping line 5879: expected 12 fields, saw 13\\nSkipping line 8981: expected 12 fields, saw 13\\n'\n"
          ],
          "name": "stderr"
        },
        {
          "output_type": "execute_result",
          "data": {
            "text/html": [
              "<div>\n",
              "<style scoped>\n",
              "    .dataframe tbody tr th:only-of-type {\n",
              "        vertical-align: middle;\n",
              "    }\n",
              "\n",
              "    .dataframe tbody tr th {\n",
              "        vertical-align: top;\n",
              "    }\n",
              "\n",
              "    .dataframe thead th {\n",
              "        text-align: right;\n",
              "    }\n",
              "</style>\n",
              "<table border=\"1\" class=\"dataframe\">\n",
              "  <thead>\n",
              "    <tr style=\"text-align: right;\">\n",
              "      <th></th>\n",
              "      <th>bookID</th>\n",
              "      <th>title</th>\n",
              "      <th>authors</th>\n",
              "      <th>average_rating</th>\n",
              "      <th>isbn</th>\n",
              "      <th>isbn13</th>\n",
              "      <th>language_code</th>\n",
              "      <th>num_pages</th>\n",
              "      <th>ratings_count</th>\n",
              "      <th>text_reviews_count</th>\n",
              "      <th>publication_date</th>\n",
              "      <th>publisher</th>\n",
              "    </tr>\n",
              "  </thead>\n",
              "  <tbody>\n",
              "    <tr>\n",
              "      <th>0</th>\n",
              "      <td>1</td>\n",
              "      <td>Harry Potter and the Half-Blood Prince (Harry ...</td>\n",
              "      <td>J.K. Rowling/Mary GrandPré</td>\n",
              "      <td>4.57</td>\n",
              "      <td>0439785960</td>\n",
              "      <td>9780439785969</td>\n",
              "      <td>eng</td>\n",
              "      <td>652</td>\n",
              "      <td>2095690</td>\n",
              "      <td>27591</td>\n",
              "      <td>9/16/2006</td>\n",
              "      <td>Scholastic Inc.</td>\n",
              "    </tr>\n",
              "    <tr>\n",
              "      <th>1</th>\n",
              "      <td>2</td>\n",
              "      <td>Harry Potter and the Order of the Phoenix (Har...</td>\n",
              "      <td>J.K. Rowling/Mary GrandPré</td>\n",
              "      <td>4.49</td>\n",
              "      <td>0439358078</td>\n",
              "      <td>9780439358071</td>\n",
              "      <td>eng</td>\n",
              "      <td>870</td>\n",
              "      <td>2153167</td>\n",
              "      <td>29221</td>\n",
              "      <td>9/1/2004</td>\n",
              "      <td>Scholastic Inc.</td>\n",
              "    </tr>\n",
              "    <tr>\n",
              "      <th>2</th>\n",
              "      <td>4</td>\n",
              "      <td>Harry Potter and the Chamber of Secrets (Harry...</td>\n",
              "      <td>J.K. Rowling</td>\n",
              "      <td>4.42</td>\n",
              "      <td>0439554896</td>\n",
              "      <td>9780439554893</td>\n",
              "      <td>eng</td>\n",
              "      <td>352</td>\n",
              "      <td>6333</td>\n",
              "      <td>244</td>\n",
              "      <td>11/1/2003</td>\n",
              "      <td>Scholastic</td>\n",
              "    </tr>\n",
              "    <tr>\n",
              "      <th>3</th>\n",
              "      <td>5</td>\n",
              "      <td>Harry Potter and the Prisoner of Azkaban (Harr...</td>\n",
              "      <td>J.K. Rowling/Mary GrandPré</td>\n",
              "      <td>4.56</td>\n",
              "      <td>043965548X</td>\n",
              "      <td>9780439655484</td>\n",
              "      <td>eng</td>\n",
              "      <td>435</td>\n",
              "      <td>2339585</td>\n",
              "      <td>36325</td>\n",
              "      <td>5/1/2004</td>\n",
              "      <td>Scholastic Inc.</td>\n",
              "    </tr>\n",
              "    <tr>\n",
              "      <th>4</th>\n",
              "      <td>8</td>\n",
              "      <td>Harry Potter Boxed Set  Books 1-5 (Harry Potte...</td>\n",
              "      <td>J.K. Rowling/Mary GrandPré</td>\n",
              "      <td>4.78</td>\n",
              "      <td>0439682584</td>\n",
              "      <td>9780439682589</td>\n",
              "      <td>eng</td>\n",
              "      <td>2690</td>\n",
              "      <td>41428</td>\n",
              "      <td>164</td>\n",
              "      <td>9/13/2004</td>\n",
              "      <td>Scholastic</td>\n",
              "    </tr>\n",
              "  </tbody>\n",
              "</table>\n",
              "</div>"
            ],
            "text/plain": [
              "   bookID  ...        publisher\n",
              "0       1  ...  Scholastic Inc.\n",
              "1       2  ...  Scholastic Inc.\n",
              "2       4  ...       Scholastic\n",
              "3       5  ...  Scholastic Inc.\n",
              "4       8  ...       Scholastic\n",
              "\n",
              "[5 rows x 12 columns]"
            ]
          },
          "metadata": {
            "tags": []
          },
          "execution_count": 3
        }
      ]
    },
    {
      "cell_type": "markdown",
      "metadata": {
        "id": "sAwHgcMpYDmi"
      },
      "source": [
        "## **Find the mean, median, standard deviation**\n",
        "\n"
      ]
    },
    {
      "cell_type": "code",
      "metadata": {
        "colab": {
          "base_uri": "https://localhost:8080/"
        },
        "id": "nXxo17k-pd9n",
        "outputId": "1e715092-9c4d-45af-f9fd-c841dbb0d652"
      },
      "source": [
        "books.info()"
      ],
      "execution_count": null,
      "outputs": [
        {
          "output_type": "stream",
          "text": [
            "<class 'pandas.core.frame.DataFrame'>\n",
            "RangeIndex: 11123 entries, 0 to 11122\n",
            "Data columns (total 12 columns):\n",
            " #   Column              Non-Null Count  Dtype  \n",
            "---  ------              --------------  -----  \n",
            " 0   bookID              11123 non-null  int64  \n",
            " 1   title               11123 non-null  object \n",
            " 2   authors             11123 non-null  object \n",
            " 3   average_rating      11123 non-null  float64\n",
            " 4   isbn                11123 non-null  object \n",
            " 5   isbn13              11123 non-null  int64  \n",
            " 6   language_code       11123 non-null  object \n",
            " 7     num_pages         11123 non-null  int64  \n",
            " 8   ratings_count       11123 non-null  int64  \n",
            " 9   text_reviews_count  11123 non-null  int64  \n",
            " 10  publication_date    11123 non-null  object \n",
            " 11  publisher           11123 non-null  object \n",
            "dtypes: float64(1), int64(5), object(6)\n",
            "memory usage: 1.0+ MB\n"
          ],
          "name": "stdout"
        }
      ]
    },
    {
      "cell_type": "code",
      "metadata": {
        "id": "mfje-8VHp0NL"
      },
      "source": [
        "books.columns = [col.strip() for col in books.columns]  # remove leading and trailing spaces from columns names"
      ],
      "execution_count": null,
      "outputs": []
    },
    {
      "cell_type": "code",
      "metadata": {
        "id": "D_Gj21b03AUN"
      },
      "source": [
        "# change dtype of of bookID & isbn13\n",
        "books.bookID = books.bookID.astype('object')\n",
        "books.isbn13 = books.isbn13.astype('object')"
      ],
      "execution_count": null,
      "outputs": []
    },
    {
      "cell_type": "code",
      "metadata": {
        "id": "uAz_XvmdYPDn",
        "colab": {
          "base_uri": "https://localhost:8080/",
          "height": 173
        },
        "outputId": "388b7806-d14b-468b-f11e-c8de7a9c7504"
      },
      "source": [
        "descriptive_stats = books.describe().loc[['mean', 'std']].transpose()  # get mean and std of numerical data\n",
        "descriptive_stats = descriptive_stats.round(2)  # round data to 2 decimal places\n",
        "descriptive_stats"
      ],
      "execution_count": null,
      "outputs": [
        {
          "output_type": "execute_result",
          "data": {
            "text/html": [
              "<div>\n",
              "<style scoped>\n",
              "    .dataframe tbody tr th:only-of-type {\n",
              "        vertical-align: middle;\n",
              "    }\n",
              "\n",
              "    .dataframe tbody tr th {\n",
              "        vertical-align: top;\n",
              "    }\n",
              "\n",
              "    .dataframe thead th {\n",
              "        text-align: right;\n",
              "    }\n",
              "</style>\n",
              "<table border=\"1\" class=\"dataframe\">\n",
              "  <thead>\n",
              "    <tr style=\"text-align: right;\">\n",
              "      <th></th>\n",
              "      <th>mean</th>\n",
              "      <th>std</th>\n",
              "    </tr>\n",
              "  </thead>\n",
              "  <tbody>\n",
              "    <tr>\n",
              "      <th>average_rating</th>\n",
              "      <td>3.93</td>\n",
              "      <td>0.35</td>\n",
              "    </tr>\n",
              "    <tr>\n",
              "      <th>num_pages</th>\n",
              "      <td>336.41</td>\n",
              "      <td>241.15</td>\n",
              "    </tr>\n",
              "    <tr>\n",
              "      <th>ratings_count</th>\n",
              "      <td>17942.85</td>\n",
              "      <td>112499.15</td>\n",
              "    </tr>\n",
              "    <tr>\n",
              "      <th>text_reviews_count</th>\n",
              "      <td>542.05</td>\n",
              "      <td>2576.62</td>\n",
              "    </tr>\n",
              "  </tbody>\n",
              "</table>\n",
              "</div>"
            ],
            "text/plain": [
              "                        mean        std\n",
              "average_rating          3.93       0.35\n",
              "num_pages             336.41     241.15\n",
              "ratings_count       17942.85  112499.15\n",
              "text_reviews_count    542.05    2576.62"
            ]
          },
          "metadata": {
            "tags": []
          },
          "execution_count": 7
        }
      ]
    },
    {
      "cell_type": "code",
      "metadata": {
        "id": "jnG0ssn2klDU"
      },
      "source": [
        "# add median to descriptive_stats df\n",
        "medians = []\n",
        "for attr in descriptive_stats.index:\n",
        "    medians.append(books[attr].median())\n",
        "descriptive_stats['median'] = medians"
      ],
      "execution_count": null,
      "outputs": []
    },
    {
      "cell_type": "code",
      "metadata": {
        "colab": {
          "base_uri": "https://localhost:8080/",
          "height": 173
        },
        "id": "NYFDlvDeuL_Q",
        "outputId": "2c4aded7-3dae-460e-c61b-00d3b361d0eb"
      },
      "source": [
        "descriptive_stats  # final result"
      ],
      "execution_count": null,
      "outputs": [
        {
          "output_type": "execute_result",
          "data": {
            "text/html": [
              "<div>\n",
              "<style scoped>\n",
              "    .dataframe tbody tr th:only-of-type {\n",
              "        vertical-align: middle;\n",
              "    }\n",
              "\n",
              "    .dataframe tbody tr th {\n",
              "        vertical-align: top;\n",
              "    }\n",
              "\n",
              "    .dataframe thead th {\n",
              "        text-align: right;\n",
              "    }\n",
              "</style>\n",
              "<table border=\"1\" class=\"dataframe\">\n",
              "  <thead>\n",
              "    <tr style=\"text-align: right;\">\n",
              "      <th></th>\n",
              "      <th>mean</th>\n",
              "      <th>std</th>\n",
              "      <th>median</th>\n",
              "    </tr>\n",
              "  </thead>\n",
              "  <tbody>\n",
              "    <tr>\n",
              "      <th>average_rating</th>\n",
              "      <td>3.93</td>\n",
              "      <td>0.35</td>\n",
              "      <td>3.96</td>\n",
              "    </tr>\n",
              "    <tr>\n",
              "      <th>num_pages</th>\n",
              "      <td>336.41</td>\n",
              "      <td>241.15</td>\n",
              "      <td>299.00</td>\n",
              "    </tr>\n",
              "    <tr>\n",
              "      <th>ratings_count</th>\n",
              "      <td>17942.85</td>\n",
              "      <td>112499.15</td>\n",
              "      <td>745.00</td>\n",
              "    </tr>\n",
              "    <tr>\n",
              "      <th>text_reviews_count</th>\n",
              "      <td>542.05</td>\n",
              "      <td>2576.62</td>\n",
              "      <td>47.00</td>\n",
              "    </tr>\n",
              "  </tbody>\n",
              "</table>\n",
              "</div>"
            ],
            "text/plain": [
              "                        mean        std  median\n",
              "average_rating          3.93       0.35    3.96\n",
              "num_pages             336.41     241.15  299.00\n",
              "ratings_count       17942.85  112499.15  745.00\n",
              "text_reviews_count    542.05    2576.62   47.00"
            ]
          },
          "metadata": {
            "tags": []
          },
          "execution_count": 9
        }
      ]
    },
    {
      "cell_type": "markdown",
      "metadata": {
        "id": "ih-gH_lKY7io"
      },
      "source": [
        "\n",
        "## **Create a normalized form whose values range exactly between 0 and 1 so that the minimum has value 0 and maximum has value 1.**"
      ]
    },
    {
      "cell_type": "code",
      "metadata": {
        "id": "9_RTGZHwY8Ne",
        "colab": {
          "base_uri": "https://localhost:8080/",
          "height": 204
        },
        "outputId": "e7e6419b-eb8e-425e-fc56-4f83d69ddc80"
      },
      "source": [
        "numerical_data = books.select_dtypes(exclude='object')  # get numerical data only\n",
        "numerical_data.head()"
      ],
      "execution_count": null,
      "outputs": [
        {
          "output_type": "execute_result",
          "data": {
            "text/html": [
              "<div>\n",
              "<style scoped>\n",
              "    .dataframe tbody tr th:only-of-type {\n",
              "        vertical-align: middle;\n",
              "    }\n",
              "\n",
              "    .dataframe tbody tr th {\n",
              "        vertical-align: top;\n",
              "    }\n",
              "\n",
              "    .dataframe thead th {\n",
              "        text-align: right;\n",
              "    }\n",
              "</style>\n",
              "<table border=\"1\" class=\"dataframe\">\n",
              "  <thead>\n",
              "    <tr style=\"text-align: right;\">\n",
              "      <th></th>\n",
              "      <th>average_rating</th>\n",
              "      <th>num_pages</th>\n",
              "      <th>ratings_count</th>\n",
              "      <th>text_reviews_count</th>\n",
              "    </tr>\n",
              "  </thead>\n",
              "  <tbody>\n",
              "    <tr>\n",
              "      <th>0</th>\n",
              "      <td>4.57</td>\n",
              "      <td>652</td>\n",
              "      <td>2095690</td>\n",
              "      <td>27591</td>\n",
              "    </tr>\n",
              "    <tr>\n",
              "      <th>1</th>\n",
              "      <td>4.49</td>\n",
              "      <td>870</td>\n",
              "      <td>2153167</td>\n",
              "      <td>29221</td>\n",
              "    </tr>\n",
              "    <tr>\n",
              "      <th>2</th>\n",
              "      <td>4.42</td>\n",
              "      <td>352</td>\n",
              "      <td>6333</td>\n",
              "      <td>244</td>\n",
              "    </tr>\n",
              "    <tr>\n",
              "      <th>3</th>\n",
              "      <td>4.56</td>\n",
              "      <td>435</td>\n",
              "      <td>2339585</td>\n",
              "      <td>36325</td>\n",
              "    </tr>\n",
              "    <tr>\n",
              "      <th>4</th>\n",
              "      <td>4.78</td>\n",
              "      <td>2690</td>\n",
              "      <td>41428</td>\n",
              "      <td>164</td>\n",
              "    </tr>\n",
              "  </tbody>\n",
              "</table>\n",
              "</div>"
            ],
            "text/plain": [
              "   average_rating  num_pages  ratings_count  text_reviews_count\n",
              "0            4.57        652        2095690               27591\n",
              "1            4.49        870        2153167               29221\n",
              "2            4.42        352           6333                 244\n",
              "3            4.56        435        2339585               36325\n",
              "4            4.78       2690          41428                 164"
            ]
          },
          "metadata": {
            "tags": []
          },
          "execution_count": 10
        }
      ]
    },
    {
      "cell_type": "code",
      "metadata": {
        "colab": {
          "base_uri": "https://localhost:8080/",
          "height": 204
        },
        "id": "HW1hkx7i1NRX",
        "outputId": "72f6d680-792b-4788-8e65-0c605a109180"
      },
      "source": [
        "# apply min-max normalization\n",
        "normalized_data = (numerical_data - numerical_data.min()) / (numerical_data.max() - numerical_data.min())\n",
        "normalized_data.sample(5)"
      ],
      "execution_count": null,
      "outputs": [
        {
          "output_type": "execute_result",
          "data": {
            "text/html": [
              "<div>\n",
              "<style scoped>\n",
              "    .dataframe tbody tr th:only-of-type {\n",
              "        vertical-align: middle;\n",
              "    }\n",
              "\n",
              "    .dataframe tbody tr th {\n",
              "        vertical-align: top;\n",
              "    }\n",
              "\n",
              "    .dataframe thead th {\n",
              "        text-align: right;\n",
              "    }\n",
              "</style>\n",
              "<table border=\"1\" class=\"dataframe\">\n",
              "  <thead>\n",
              "    <tr style=\"text-align: right;\">\n",
              "      <th></th>\n",
              "      <th>average_rating</th>\n",
              "      <th>num_pages</th>\n",
              "      <th>ratings_count</th>\n",
              "      <th>text_reviews_count</th>\n",
              "    </tr>\n",
              "  </thead>\n",
              "  <tbody>\n",
              "    <tr>\n",
              "      <th>10909</th>\n",
              "      <td>0.834</td>\n",
              "      <td>0.035432</td>\n",
              "      <td>0.001111</td>\n",
              "      <td>0.001644</td>\n",
              "    </tr>\n",
              "    <tr>\n",
              "      <th>3780</th>\n",
              "      <td>0.846</td>\n",
              "      <td>0.028741</td>\n",
              "      <td>0.000072</td>\n",
              "      <td>0.000064</td>\n",
              "    </tr>\n",
              "    <tr>\n",
              "      <th>8959</th>\n",
              "      <td>0.804</td>\n",
              "      <td>0.120286</td>\n",
              "      <td>0.000006</td>\n",
              "      <td>0.000021</td>\n",
              "    </tr>\n",
              "    <tr>\n",
              "      <th>7820</th>\n",
              "      <td>0.776</td>\n",
              "      <td>0.061740</td>\n",
              "      <td>0.000464</td>\n",
              "      <td>0.000446</td>\n",
              "    </tr>\n",
              "    <tr>\n",
              "      <th>4663</th>\n",
              "      <td>0.776</td>\n",
              "      <td>0.037257</td>\n",
              "      <td>0.000095</td>\n",
              "      <td>0.000244</td>\n",
              "    </tr>\n",
              "  </tbody>\n",
              "</table>\n",
              "</div>"
            ],
            "text/plain": [
              "       average_rating  num_pages  ratings_count  text_reviews_count\n",
              "10909           0.834   0.035432       0.001111            0.001644\n",
              "3780            0.846   0.028741       0.000072            0.000064\n",
              "8959            0.804   0.120286       0.000006            0.000021\n",
              "7820            0.776   0.061740       0.000464            0.000446\n",
              "4663            0.776   0.037257       0.000095            0.000244"
            ]
          },
          "metadata": {
            "tags": []
          },
          "execution_count": 11
        }
      ]
    },
    {
      "cell_type": "code",
      "metadata": {
        "colab": {
          "base_uri": "https://localhost:8080/",
          "height": 297
        },
        "id": "2VyBeCn21zMW",
        "outputId": "d5971ece-d013-411d-dd54-12dcf1718814"
      },
      "source": [
        "normalized_data.describe()"
      ],
      "execution_count": null,
      "outputs": [
        {
          "output_type": "execute_result",
          "data": {
            "text/html": [
              "<div>\n",
              "<style scoped>\n",
              "    .dataframe tbody tr th:only-of-type {\n",
              "        vertical-align: middle;\n",
              "    }\n",
              "\n",
              "    .dataframe tbody tr th {\n",
              "        vertical-align: top;\n",
              "    }\n",
              "\n",
              "    .dataframe thead th {\n",
              "        text-align: right;\n",
              "    }\n",
              "</style>\n",
              "<table border=\"1\" class=\"dataframe\">\n",
              "  <thead>\n",
              "    <tr style=\"text-align: right;\">\n",
              "      <th></th>\n",
              "      <th>average_rating</th>\n",
              "      <th>num_pages</th>\n",
              "      <th>ratings_count</th>\n",
              "      <th>text_reviews_count</th>\n",
              "    </tr>\n",
              "  </thead>\n",
              "  <tbody>\n",
              "    <tr>\n",
              "      <th>count</th>\n",
              "      <td>11123.000000</td>\n",
              "      <td>11123.000000</td>\n",
              "      <td>11123.000000</td>\n",
              "      <td>11123.000000</td>\n",
              "    </tr>\n",
              "    <tr>\n",
              "      <th>mean</th>\n",
              "      <td>0.786815</td>\n",
              "      <td>0.051157</td>\n",
              "      <td>0.003903</td>\n",
              "      <td>0.005750</td>\n",
              "    </tr>\n",
              "    <tr>\n",
              "      <th>std</th>\n",
              "      <td>0.070097</td>\n",
              "      <td>0.036672</td>\n",
              "      <td>0.024469</td>\n",
              "      <td>0.027334</td>\n",
              "    </tr>\n",
              "    <tr>\n",
              "      <th>min</th>\n",
              "      <td>0.000000</td>\n",
              "      <td>0.000000</td>\n",
              "      <td>0.000000</td>\n",
              "      <td>0.000000</td>\n",
              "    </tr>\n",
              "    <tr>\n",
              "      <th>25%</th>\n",
              "      <td>0.754000</td>\n",
              "      <td>0.029197</td>\n",
              "      <td>0.000023</td>\n",
              "      <td>0.000095</td>\n",
              "    </tr>\n",
              "    <tr>\n",
              "      <th>50%</th>\n",
              "      <td>0.792000</td>\n",
              "      <td>0.045468</td>\n",
              "      <td>0.000162</td>\n",
              "      <td>0.000499</td>\n",
              "    </tr>\n",
              "    <tr>\n",
              "      <th>75%</th>\n",
              "      <td>0.828000</td>\n",
              "      <td>0.063260</td>\n",
              "      <td>0.001088</td>\n",
              "      <td>0.002525</td>\n",
              "    </tr>\n",
              "    <tr>\n",
              "      <th>max</th>\n",
              "      <td>1.000000</td>\n",
              "      <td>1.000000</td>\n",
              "      <td>1.000000</td>\n",
              "      <td>1.000000</td>\n",
              "    </tr>\n",
              "  </tbody>\n",
              "</table>\n",
              "</div>"
            ],
            "text/plain": [
              "       average_rating     num_pages  ratings_count  text_reviews_count\n",
              "count    11123.000000  11123.000000   11123.000000        11123.000000\n",
              "mean         0.786815      0.051157       0.003903            0.005750\n",
              "std          0.070097      0.036672       0.024469            0.027334\n",
              "min          0.000000      0.000000       0.000000            0.000000\n",
              "25%          0.754000      0.029197       0.000023            0.000095\n",
              "50%          0.792000      0.045468       0.000162            0.000499\n",
              "75%          0.828000      0.063260       0.001088            0.002525\n",
              "max          1.000000      1.000000       1.000000            1.000000"
            ]
          },
          "metadata": {
            "tags": []
          },
          "execution_count": 12
        }
      ]
    },
    {
      "cell_type": "markdown",
      "metadata": {
        "id": "KbLSXvFKZPRL"
      },
      "source": [
        "## **Find the number and position of missing values**"
      ]
    },
    {
      "cell_type": "code",
      "metadata": {
        "id": "Z0Emnc7AZSwe",
        "colab": {
          "base_uri": "https://localhost:8080/"
        },
        "outputId": "8487c4b3-b8b9-4cad-bd9e-20a46ad3ec4f"
      },
      "source": [
        "books.isna().sum()  # no missing data"
      ],
      "execution_count": null,
      "outputs": [
        {
          "output_type": "execute_result",
          "data": {
            "text/plain": [
              "bookID                0\n",
              "title                 0\n",
              "authors               0\n",
              "average_rating        0\n",
              "isbn                  0\n",
              "isbn13                0\n",
              "language_code         0\n",
              "num_pages             0\n",
              "ratings_count         0\n",
              "text_reviews_count    0\n",
              "publication_date      0\n",
              "publisher             0\n",
              "dtype: int64"
            ]
          },
          "metadata": {
            "tags": []
          },
          "execution_count": 13
        }
      ]
    },
    {
      "cell_type": "markdown",
      "metadata": {
        "id": "KoO3sXk2ZTDT"
      },
      "source": [
        "## **Select the rows that does not have any value**\n",
        "\n"
      ]
    },
    {
      "cell_type": "code",
      "metadata": {
        "id": "6vcxbMBOZbu1",
        "colab": {
          "base_uri": "https://localhost:8080/"
        },
        "outputId": "c8f3a92a-3519-4867-f92f-22a57814c47b"
      },
      "source": [
        "books.isna().all()  # there is no null values\n"
      ],
      "execution_count": null,
      "outputs": [
        {
          "output_type": "execute_result",
          "data": {
            "text/plain": [
              "bookID                False\n",
              "title                 False\n",
              "authors               False\n",
              "average_rating        False\n",
              "isbn                  False\n",
              "isbn13                False\n",
              "language_code         False\n",
              "num_pages             False\n",
              "ratings_count         False\n",
              "text_reviews_count    False\n",
              "publication_date      False\n",
              "publisher             False\n",
              "dtype: bool"
            ]
          },
          "metadata": {
            "tags": []
          },
          "execution_count": 14
        }
      ]
    },
    {
      "cell_type": "markdown",
      "metadata": {
        "id": "phWKGGxRZcK2"
      },
      "source": [
        "## **Find the unique values and the count of unique values**"
      ]
    },
    {
      "cell_type": "code",
      "metadata": {
        "colab": {
          "base_uri": "https://localhost:8080/"
        },
        "id": "-emLkku-HEqv",
        "outputId": "6fad8042-2576-49b6-c237-ee7aca151936"
      },
      "source": [
        "books.nunique()  # count distinct values of each column "
      ],
      "execution_count": null,
      "outputs": [
        {
          "output_type": "execute_result",
          "data": {
            "text/plain": [
              "bookID                11123\n",
              "title                 10348\n",
              "authors                6639\n",
              "average_rating          209\n",
              "isbn                  11123\n",
              "isbn13                11123\n",
              "language_code            27\n",
              "num_pages               997\n",
              "ratings_count          5294\n",
              "text_reviews_count     1822\n",
              "publication_date       3679\n",
              "publisher              2290\n",
              "dtype: int64"
            ]
          },
          "metadata": {
            "tags": []
          },
          "execution_count": 15
        }
      ]
    },
    {
      "cell_type": "code",
      "metadata": {
        "id": "83lFnHwIZn8J",
        "colab": {
          "base_uri": "https://localhost:8080/"
        },
        "outputId": "200d4d37-2181-4cfc-c2fe-73c25a8de0c1"
      },
      "source": [
        " # get count of each column unique values\n",
        "for col in books.columns:\n",
        "    print(books[col].value_counts()) \n",
        "    print('-'*50)"
      ],
      "execution_count": null,
      "outputs": [
        {
          "output_type": "stream",
          "text": [
            "32767    1\n",
            "5350     1\n",
            "5359     1\n",
            "21742    1\n",
            "5357     1\n",
            "        ..\n",
            "43504    1\n",
            "17253    1\n",
            "27118    1\n",
            "32919    1\n",
            "16384    1\n",
            "Name: bookID, Length: 11123, dtype: int64\n",
            "--------------------------------------------------\n",
            "The Iliad                                                                9\n",
            "The Brothers Karamazov                                                   9\n",
            "The Odyssey                                                              8\n",
            "Anna Karenina                                                            8\n",
            "'Salem's Lot                                                             8\n",
            "                                                                        ..\n",
            "Second Home: Finding Your Place in the Fun (Better Homes and Gardens)    1\n",
            "Lonely Planet Londres                                                    1\n",
            "Carrie / 'Salem's Lot / The Shining                                      1\n",
            "A Universal History of Iniquity                                          1\n",
            "Sailing the Wine-Dark Sea: Why the Greeks Matter                         1\n",
            "Name: title, Length: 10348, dtype: int64\n",
            "--------------------------------------------------\n",
            "P.G. Wodehouse                           40\n",
            "Stephen King                             40\n",
            "Rumiko Takahashi                         39\n",
            "Orson Scott Card                         35\n",
            "Agatha Christie                          33\n",
            "                                         ..\n",
            "William Manchester/Barrett Whitener       1\n",
            "Stephen J. Cannell/Scott Brick            1\n",
            "Sophocles/Peter Meineck/Paul Woodruff     1\n",
            "Walker Percy                              1\n",
            "Sanyika Shakur                            1\n",
            "Name: authors, Length: 6639, dtype: int64\n",
            "--------------------------------------------------\n",
            "4.00    219\n",
            "3.96    195\n",
            "4.02    178\n",
            "3.94    176\n",
            "4.07    172\n",
            "       ... \n",
            "1.67      1\n",
            "4.80      1\n",
            "2.94      1\n",
            "4.86      1\n",
            "3.03      1\n",
            "Name: average_rating, Length: 209, dtype: int64\n",
            "--------------------------------------------------\n",
            "189238938X    1\n",
            "0940450534    1\n",
            "0809493780    1\n",
            "0895260786    1\n",
            "0385335997    1\n",
            "             ..\n",
            "1843541858    1\n",
            "0345468031    1\n",
            "0425132641    1\n",
            "0195181301    1\n",
            "084395499X    1\n",
            "Name: isbn, Length: 11123, dtype: int64\n",
            "--------------------------------------------------\n",
            "9780380718122    1\n",
            "9783150071236    1\n",
            "9780786845033    1\n",
            "9781888472424    1\n",
            "9780151327737    1\n",
            "                ..\n",
            "9780806525693    1\n",
            "9780061020575    1\n",
            "9780321317100    1\n",
            "9780312425869    1\n",
            "9780099432449    1\n",
            "Name: isbn13, Length: 11123, dtype: int64\n",
            "--------------------------------------------------\n",
            "eng      8908\n",
            "en-US    1408\n",
            "spa       218\n",
            "en-GB     214\n",
            "fre       144\n",
            "ger        99\n",
            "jpn        46\n",
            "mul        19\n",
            "zho        14\n",
            "grc        11\n",
            "por        10\n",
            "en-CA       7\n",
            "ita         5\n",
            "enm         3\n",
            "lat         3\n",
            "swe         2\n",
            "rus         2\n",
            "glg         1\n",
            "nor         1\n",
            "msa         1\n",
            "srp         1\n",
            "tur         1\n",
            "ale         1\n",
            "gla         1\n",
            "nl          1\n",
            "ara         1\n",
            "wel         1\n",
            "Name: language_code, dtype: int64\n",
            "--------------------------------------------------\n",
            "288     230\n",
            "192     221\n",
            "320     218\n",
            "256     207\n",
            "352     202\n",
            "       ... \n",
            "939       1\n",
            "1003      1\n",
            "1035      1\n",
            "1051      1\n",
            "931       1\n",
            "Name: num_pages, Length: 997, dtype: int64\n",
            "--------------------------------------------------\n",
            "3        82\n",
            "0        80\n",
            "1        76\n",
            "2        71\n",
            "4        71\n",
            "         ..\n",
            "1820      1\n",
            "10008     1\n",
            "7959      1\n",
            "5910      1\n",
            "18419     1\n",
            "Name: ratings_count, Length: 5294, dtype: int64\n",
            "--------------------------------------------------\n",
            "0        624\n",
            "1        458\n",
            "2        354\n",
            "3        263\n",
            "4        247\n",
            "        ... \n",
            "1020       1\n",
            "1036       1\n",
            "1052       1\n",
            "35877      1\n",
            "2031       1\n",
            "Name: text_reviews_count, Length: 1822, dtype: int64\n",
            "--------------------------------------------------\n",
            "10/1/2005    56\n",
            "11/1/2005    53\n",
            "9/1/2006     51\n",
            "10/1/2006    48\n",
            "11/1/2006    40\n",
            "             ..\n",
            "5/31/1990     1\n",
            "1/22/2010     1\n",
            "1/8/2007      1\n",
            "8/29/2001     1\n",
            "5/12/1982     1\n",
            "Name: publication_date, Length: 3679, dtype: int64\n",
            "--------------------------------------------------\n",
            "Vintage                               318\n",
            "Penguin Books                         261\n",
            "Penguin Classics                      184\n",
            "Mariner Books                         150\n",
            "Ballantine Books                      144\n",
            "                                     ... \n",
            "Ediciones Glénat España                 1\n",
            "Bantam Books  Inc.                      1\n",
            "Tusquets                                1\n",
            "Pocket Books/Simon & Schuster (NY)      1\n",
            "Blanvalet Verlag GmbH                   1\n",
            "Name: publisher, Length: 2290, dtype: int64\n",
            "--------------------------------------------------\n"
          ],
          "name": "stdout"
        }
      ]
    },
    {
      "cell_type": "markdown",
      "metadata": {
        "id": "Vxth-0O7ZogN"
      },
      "source": [
        "## **Find the most frequent value of dataset**"
      ]
    },
    {
      "cell_type": "code",
      "metadata": {
        "id": "R2TSUIl2ZzAF",
        "colab": {
          "base_uri": "https://localhost:8080/"
        },
        "outputId": "6a8f18a4-5300-41f4-ea3a-1e9a7282e3a9"
      },
      "source": [
        "for col in books.columns:\n",
        "    if col not in ['bookID', 'isbn', 'isbn13']:\n",
        "        print(col, \":\", books[col].mode()[0])\n",
        "        print('-'*30)"
      ],
      "execution_count": null,
      "outputs": [
        {
          "output_type": "stream",
          "text": [
            "title : The Brothers Karamazov\n",
            "------------------------------\n",
            "authors : P.G. Wodehouse\n",
            "------------------------------\n",
            "average_rating : 4.0\n",
            "------------------------------\n",
            "language_code : eng\n",
            "------------------------------\n",
            "num_pages : 288\n",
            "------------------------------\n",
            "ratings_count : 3\n",
            "------------------------------\n",
            "text_reviews_count : 0\n",
            "------------------------------\n",
            "publication_date : 10/1/2005\n",
            "------------------------------\n",
            "publisher : Vintage\n",
            "------------------------------\n"
          ],
          "name": "stdout"
        }
      ]
    },
    {
      "cell_type": "markdown",
      "metadata": {
        "id": "wJY9c-bDYPtI"
      },
      "source": [
        "# **Types of data analysis**\n",
        "## Univariate\n",
        "> is a term commonly used in statistics to describe a type of data which consists of observations on only a single characteristic or attribute.\n",
        "\n",
        "> Univariate analysis is the simplest form of analyzing data. “Uni” means “one”, so in other words your data has only one variable.\n",
        "\n",
        "## Bivariate\n",
        ">In statistics, bivariate data is data on each of two variables, where each value of one of the variables is paired with a value of the other variable. Typically it would be of interest to investigate the possible association between the two variables.\n",
        "\n",
        ">Bivariate analysis is one of the simplest forms of quantitative (statistical) analysis. It involves the analysis of two variables (often denoted as X, Y), for the purpose of determining the empirical relationship between them.\n",
        "\n",
        "## Multivariate\n",
        ">Multivariate statistics is a subdivision of statistics encompassing the simultaneous observation and analysis of more than one outcome variable. The application of multivariate statistics is multivariate analysis.\n",
        "\n",
        ">Multivariate analysis is based on the principles of multivariate statistics, which involves observation and analysis of more than one statistical outcome variable at a time.\n",
        "\n",
        "![picture](https://drive.google.com/uc?export=view&id=1ors5QRIf6ISa-aidarRJ6A0-ueY31hk9)"
      ]
    },
    {
      "cell_type": "markdown",
      "metadata": {
        "id": "ZwTp__cDim-H"
      },
      "source": [
        "------"
      ]
    },
    {
      "cell_type": "markdown",
      "metadata": {
        "id": "cWOtrSAzXzzU"
      },
      "source": [
        "# Univariate\n",
        "> Make at least one chart\n",
        ",write your observation under every chart"
      ]
    },
    {
      "cell_type": "code",
      "metadata": {
        "id": "zzdL3jIIfG9S",
        "colab": {
          "base_uri": "https://localhost:8080/",
          "height": 361
        },
        "outputId": "96b5f6cd-b76e-4eb0-be09-af8e90f75473"
      },
      "source": [
        "plt.hist(books['average_rating'], bins=25)\n",
        "plt.xlabel('Ratings average');"
      ],
      "execution_count": null,
      "outputs": [
        {
          "output_type": "display_data",
          "data": {
            "image/png": "[encoded data removed]",
            "text/plain": [
              "<Figure size 576x396 with 1 Axes>"
            ]
          },
          "metadata": {
            "tags": []
          }
        }
      ]
    },
    {
      "cell_type": "markdown",
      "metadata": {
        "id": "t5aEHK2HzD_V"
      },
      "source": [
        "> Observation: ratings from 3.0 to 4.0 are the most"
      ]
    },
    {
      "cell_type": "markdown",
      "metadata": {
        "id": "rOz3SP8visz3"
      },
      "source": [
        "------"
      ]
    },
    {
      "cell_type": "markdown",
      "metadata": {
        "id": "AL8zKDe2fkIS"
      },
      "source": [
        "# Bivariate\n",
        "> Make at least one chart\n",
        ",write your observation under every chart"
      ]
    },
    {
      "cell_type": "code",
      "metadata": {
        "id": "zM00AGX2frJf",
        "colab": {
          "base_uri": "https://localhost:8080/",
          "height": 361
        },
        "outputId": "63f61858-7b86-4518-d4c7-7a7df50bf4f1"
      },
      "source": [
        "plt.scatter(books['ratings_count'], books['text_reviews_count'])\n",
        "plt.xlabel('Ratings count')\n",
        "plt.ylabel('Reviews count');"
      ],
      "execution_count": null,
      "outputs": [
        {
          "output_type": "display_data",
          "data": {
            "image/png": "[encoded data removed]",
            "text/plain": [
              "<Figure size 576x396 with 1 Axes>"
            ]
          },
          "metadata": {
            "tags": []
          }
        }
      ]
    },
    {
      "cell_type": "markdown",
      "metadata": {
        "id": "F_4BRYv_3i6d"
      },
      "source": [
        "> Observation: the relationship is positive correlation"
      ]
    },
    {
      "cell_type": "markdown",
      "metadata": {
        "id": "EzQ9jKZoiwRo"
      },
      "source": [
        "----\n"
      ]
    },
    {
      "cell_type": "markdown",
      "metadata": {
        "id": "1yDGR2Rbft1y"
      },
      "source": [
        "# Multivariate\n",
        "> Make at least one chart\n",
        ",write your observation under every chart"
      ]
    },
    {
      "cell_type": "code",
      "metadata": {
        "colab": {
          "base_uri": "https://localhost:8080/"
        },
        "id": "yXHRDLp6WAFF",
        "outputId": "477a83a1-c7e0-40ec-c5a5-6ef05448d41c"
      },
      "source": [
        "# extract year from publication_date\n",
        "books['publish_year'] = books.publication_date.map(lambda date: int(date.split('/')[2]))\n",
        "books['publish_year'].head()"
      ],
      "execution_count": null,
      "outputs": [
        {
          "output_type": "execute_result",
          "data": {
            "text/plain": [
              "0    2006\n",
              "1    2004\n",
              "2    2003\n",
              "3    2004\n",
              "4    2004\n",
              "Name: publish_year, dtype: int64"
            ]
          },
          "metadata": {
            "tags": []
          },
          "execution_count": 20
        }
      ]
    },
    {
      "cell_type": "code",
      "metadata": {
        "id": "lK4d33b_HJuT"
      },
      "source": [
        "# get data of top 10 rated authors\n",
        "top_10_authors = books.sort_values('ratings_count', ascending=False).authors.unique()[:10]\n",
        "new_df = books[books.authors.isin(top_10_authors)]"
      ],
      "execution_count": null,
      "outputs": []
    },
    {
      "cell_type": "code",
      "metadata": {
        "colab": {
          "base_uri": "https://localhost:8080/",
          "height": 383
        },
        "id": "cyqAzbx_OiyO",
        "outputId": "5e1483f8-de19-449c-80f6-a4379e6688d0"
      },
      "source": [
        "from seaborn import lmplot\n",
        "lmplot(data=new_df, x='publish_year', y='average_rating', hue='authors', fit_reg=False);"
      ],
      "execution_count": null,
      "outputs": [
        {
          "output_type": "display_data",
          "data": {
            "image/png": "[encoded data removed]",
            "text/plain": [
              "<Figure size 636.875x360 with 1 Axes>"
            ]
          },
          "metadata": {
            "tags": []
          }
        }
      ]
    },
    {
      "cell_type": "markdown",
      "metadata": {
        "id": "wCLAfEnK28MP"
      },
      "source": [
        "> This graph describes the relation betwwen publish_year and average_rating for each one of the top 10 book authors\n"
      ]
    }
  ]
}